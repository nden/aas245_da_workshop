{
 "cells": [
  {
   "cell_type": "markdown",
   "id": "09a8d867-2cbe-42f1-8ad6-a09b05dcaf78",
   "metadata": {},
   "source": [
    "### Exercise 1:\n",
    "Using the file above\n",
    "\n",
    "- Open the file and read the WCS\n",
    "- Display the bounding_box\n",
    "- Generate the grid of inputs Extra bonus\n",
    "  - Generate a grid using the edge of the pixels instead of the centers (hint: use the center parameter)\n",
    "  - Generate a grid with sampling every 5 pixels (hint: use the step parameter)\n",
    "- Use the Shared and Legacy APIs to generate world coordinates\n",
    "- Evaluate the WCS on x=4088 and y=4088\n",
    "- Compute the footprint of the image on sky"
   ]
  },
  {
   "cell_type": "code",
   "execution_count": null,
   "id": "df428ed5-ca9d-48a9-afc0-3d5c1c0ff881",
   "metadata": {},
   "outputs": [],
   "source": [
    "from roman_datamodels import datamodels as rdm\n",
    "cal = rdm.open('../asdf/data/roman.asdf')"
   ]
  },
  {
   "cell_type": "code",
   "execution_count": null,
   "id": "60f0cccf-5f87-48db-9d06-1a4e7a8e72e1",
   "metadata": {},
   "outputs": [],
   "source": [
    "w = cal.meta.wcs\n",
    "print(f\"Bounding box : \\n\\n {w.bounding_box}\")"
   ]
  },
  {
   "cell_type": "code",
   "execution_count": null,
   "id": "be4aab2f-56d0-4d62-acc2-fd91e6f06122",
   "metadata": {},
   "outputs": [],
   "source": [
    "from gwcs.wcstools import grid_from_bounding_box\n",
    "\n",
    "x, y = grid_from_bounding_box(w.bounding_box)\n",
    "print(x)\n",
    "print(y)"
   ]
  },
  {
   "cell_type": "code",
   "execution_count": null,
   "id": "d38bcabd-cb9f-44ba-a136-2e580ed1ff59",
   "metadata": {},
   "outputs": [],
   "source": [
    "x_edge, y_edge = grid_from_bounding_box(w.bounding_box, center=False)\n",
    "print(x_edge)\n",
    "print('\\n\\n')\n",
    "print(y_edge)"
   ]
  },
  {
   "cell_type": "code",
   "execution_count": null,
   "id": "c9f9641f-9ed7-4a42-bae9-8fb396acbfb0",
   "metadata": {},
   "outputs": [],
   "source": [
    "x_edge_5, y_edge_5 = grid_from_bounding_box(w.bounding_box, center=False, step=5)\n",
    "print(x_edge_5)\n",
    "print('\\n\\n')\n",
    "print(y_edge_5)"
   ]
  },
  {
   "cell_type": "code",
   "execution_count": null,
   "id": "d6c33528-e361-4382-802b-7948d5e3e3ca",
   "metadata": {},
   "outputs": [],
   "source": [
    "# Use the Shared and Legacy APIs to generate world coordinates\n",
    "\n",
    "ra, dec = w(x_edge_5, y_edge_5)\n",
    "print(ra, dec)"
   ]
  },
  {
   "cell_type": "code",
   "execution_count": null,
   "id": "9e15697f-f69d-4d10-b89c-4cf06b4b66ad",
   "metadata": {},
   "outputs": [],
   "source": [
    "sky = w.pixel_to_world(x, y)\n",
    "print(sky)"
   ]
  },
  {
   "cell_type": "code",
   "execution_count": null,
   "id": "3af737bf-0fb5-49af-bf75-3f42d40bdbe0",
   "metadata": {},
   "outputs": [],
   "source": [
    "# Evaluate the WCS on x=4088 and y=4088 (note these are outside the bounding box)\n",
    "\n",
    "w(4088, 4088)"
   ]
  },
  {
   "cell_type": "code",
   "execution_count": null,
   "id": "8f0331f2-e994-41ed-8878-c31e563f6f38",
   "metadata": {},
   "outputs": [],
   "source": [
    "# Compute the footprint of the image on sky\n",
    "\n",
    "print(f\"Footprint on sky: \\n {w.footprint()}\")"
   ]
  },
  {
   "cell_type": "markdown",
   "id": "914c8642-0479-42e4-a918-0f4be1a3a9b1",
   "metadata": {},
   "source": [
    "### Exercise 2:\n",
    "\n",
    "The goal of this exercise is to introduce astropy.modeling which is at the core of the GWCS implementation.\n",
    "- Read the jwst file and print the forward transform.\n",
    "- Use the prescription above to generate a compound model with different parameters.\n",
    "- Using this new transform generate a GWCS object. The coordinate frames can be accessed by `wcs.input_frame` and `wcs.output_frame`."
   ]
  },
  {
   "cell_type": "code",
   "execution_count": null,
   "id": "b66bcc9f-8e5d-4fb1-a2f8-73852476ee39",
   "metadata": {},
   "outputs": [],
   "source": [
    "from astropy.modeling import models as astm\n",
    "\n",
    "from stdatamodels.jwst import datamodels"
   ]
  },
  {
   "cell_type": "code",
   "execution_count": null,
   "id": "4ba4d7c6-0bb9-4f48-9445-a656d24db99b",
   "metadata": {},
   "outputs": [],
   "source": [
    "jcal = datamodels.open('../asdf/data/jwst.fits')"
   ]
  },
  {
   "cell_type": "code",
   "execution_count": null,
   "id": "461c7d20-22fd-4146-9d65-7b034ba41b17",
   "metadata": {},
   "outputs": [],
   "source": [
    "jw = jcal.meta.wcs\n",
    "print(jw.forward_transform)"
   ]
  },
  {
   "cell_type": "code",
   "execution_count": null,
   "id": "a2d3bc45-a536-4e21-8f5a-f45181b3341e",
   "metadata": {},
   "outputs": [],
   "source": [
    "# astm."
   ]
  },
  {
   "cell_type": "markdown",
   "id": "c7a1560f-8c00-4a0f-a38c-79adcc6e6339",
   "metadata": {},
   "source": [
    "`astropy.modeling` has many predefined models and a machinery to combine them in difference ways. There are some WCS specific models within `gwcs`.\n",
    "\n",
    "The \"join\" operator, `&`, evaluates the models on independent inputs and concatenates the result. In the example below the name of the parameter, `offset` is omitted. Models have an attribute `param_names` which shows the orider and names of parameters."
   ]
  },
  {
   "cell_type": "code",
   "execution_count": null,
   "id": "144f3345-53ca-4f10-bccd-1046094e5d41",
   "metadata": {},
   "outputs": [],
   "source": [
    "print(astm.AffineTransformation2D.param_names)\n",
    "\n",
    "print(astm.Shift.param_names)"
   ]
  },
  {
   "cell_type": "code",
   "execution_count": null,
   "id": "796c7b91-4766-4c18-8cc0-fef96c0d4219",
   "metadata": {},
   "outputs": [],
   "source": [
    "shifts = astm.Shift(offset=-10) & astm.Shift(-10.4)\n",
    "print (shifts(1, 2))"
   ]
  },
  {
   "cell_type": "code",
   "execution_count": null,
   "id": "d56955b4-546b-447f-84dd-e326db771911",
   "metadata": {},
   "outputs": [],
   "source": [
    "affine = astm.AffineTransformation2D(matrix=[[0.31671001, -0.94852241], [-0.94852241, -0.31671001]], translation=[0., 0.])\n",
    "\n",
    "scales = astm.Scale(.00011) & astm.Scale(.00012)\n",
    "\n",
    "tan = astm.Pix2Sky_TAN()\n",
    "\n",
    "n2c = astm.RotateNative2Celestial(lon=56.3, lat=-72.1, lon_pole=180)"
   ]
  },
  {
   "cell_type": "markdown",
   "id": "f2ca2390-96d1-44a2-96cf-89187e1ac8f1",
   "metadata": {},
   "source": [
    "The \"composition\" operator, `|`, combines models in series - the output of one model is the input to the next one.\n",
    "\n",
    "The combined model below represents a typical WCS imaging transform using a tangent projection."
   ]
  },
  {
   "cell_type": "code",
   "execution_count": null,
   "id": "d182f9f1-9fe2-4dff-9671-2f1dc8071b81",
   "metadata": {},
   "outputs": [],
   "source": [
    "forward = shifts | affine | scales | tan | n2c\n",
    "\n",
    "print(forward)"
   ]
  },
  {
   "cell_type": "code",
   "execution_count": null,
   "id": "f8e1667f-e22b-4053-a094-e0041f358852",
   "metadata": {},
   "outputs": [],
   "source": [
    "from gwcs import wcs\n",
    "from gwcs import coordinate_frames as cf\n",
    "\n",
    "from astropy import units as u\n",
    "from astropy.coordinates import ICRS"
   ]
  },
  {
   "cell_type": "code",
   "execution_count": null,
   "id": "b82d6821-93d0-4158-bfb3-ad56c3bc0166",
   "metadata": {},
   "outputs": [],
   "source": [
    "# Let's generate an input and output frames:\n",
    "\n",
    "detector = cf.Frame2D(name='detector', axes_names=('x', 'y'), unit=(u.ppix, u.pix))\n",
    "\n",
    "celestial = cf.CelestialFrame(name='icrs', reference_frame=ICRS(), axes_names=('ra', 'dec'), unit=(u.deg, u.deg))"
   ]
  },
  {
   "cell_type": "code",
   "execution_count": null,
   "id": "9b6e8d14-211a-43b5-b2f7-f57af1868a90",
   "metadata": {},
   "outputs": [],
   "source": [
    "wnew = wcs.WCS(input_frame=detector, output_frame=celestial, forward_transform=forward)"
   ]
  },
  {
   "cell_type": "code",
   "execution_count": null,
   "id": "71e59f42-fc07-4ffe-be01-4f6c23de9deb",
   "metadata": {},
   "outputs": [],
   "source": [
    "wnew.invert(56.3, -72.1)"
   ]
  },
  {
   "cell_type": "markdown",
   "id": "24b24896-461f-415a-9b06-7dd7db0a853e",
   "metadata": {},
   "source": [
    "##### More on combining models\n",
    "\n",
    "- Models can be combined using arithmetic operators, `+`, `-`, `*`, `/`, `**`. In this case all models are evaluated on the same inputs and the results are combined using the operator.\n",
    "- There are two special models\n",
    "  - `astm.Identity` passes the inputs unchanged\n",
    "  - `astm.Mapping` takes a tuple which is an index on the inputs and rearranges them, or drops an input."
   ]
  },
  {
   "cell_type": "code",
   "execution_count": null,
   "id": "266992e3-b27e-4b1b-b438-8c17384374c1",
   "metadata": {},
   "outputs": [],
   "source": [
    "im = astm.Identity(2)\n",
    "\n",
    "print(im(10, 13))"
   ]
  },
  {
   "cell_type": "code",
   "execution_count": null,
   "id": "d69be655-9329-4ee0-a789-e746e2e81f9b",
   "metadata": {},
   "outputs": [],
   "source": [
    "mm = astm.Mapping((0, 0, 2), n_inputs=4)\n",
    "mm(0, 1, 2, 3)"
   ]
  },
  {
   "cell_type": "code",
   "execution_count": null,
   "id": "627ae4b6-d691-4f61-985b-8b65d8e8d116",
   "metadata": {},
   "outputs": [],
   "source": []
  }
 ],
 "metadata": {
  "kernelspec": {
   "display_name": "Python 3 (ipykernel)",
   "language": "python",
   "name": "python3"
  },
  "language_info": {
   "codemirror_mode": {
    "name": "ipython",
    "version": 3
   },
   "file_extension": ".py",
   "mimetype": "text/x-python",
   "name": "python",
   "nbconvert_exporter": "python",
   "pygments_lexer": "ipython3",
   "version": "3.12.8"
  }
 },
 "nbformat": 4,
 "nbformat_minor": 5
}
