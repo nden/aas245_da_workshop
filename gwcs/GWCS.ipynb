{
 "cells": [
  {
   "cell_type": "markdown",
   "id": "739445de-4572-4c6d-9ab7-109b7b9270fb",
   "metadata": {},
   "source": [
    "## Generalized World Coordinate System (GWCS)\n",
    "#### Nadia Dencheva, Brett Graham, Perry Greenfield\n",
    "#### AAS 245"
   ]
  },
  {
   "cell_type": "markdown",
   "id": "1ca4ec70-6e6c-4d00-a56c-dda8ee626eb4",
   "metadata": {},
   "source": [
    "### Why use GWCS for JWST and Roman?\n",
    "\n",
    "- Why not FITS WCS?\n",
    "  - FITS WCS has been very successful for regulary sampled images\n",
    "  - Doesn't handle distortions\n",
    "  - Handles only regular spectral data\n",
    "  - Does not handle discontiguous data like JWST's IFUs and NIRSpec's MOS\n",
    "  - Has all the deficiencies of the FITS format"
   ]
  },
  {
   "cell_type": "markdown",
   "id": "281b01b8-0231-4c54-a57c-e22409917305",
   "metadata": {},
   "source": [
    "### GWCS Data Model\n",
    "\n",
    "- A GWCS pipeline is a list of steps\n",
    "- Each step has a coordinate frame and a transform from this frame to the next one\n",
    "- The transform of the last step is `None` and indicates the end of the pipeline"
   ]
  },
  {
   "cell_type": "markdown",
   "id": "76af0adb-305f-4f5d-91fd-36fd942159db",
   "metadata": {},
   "source": [
    "### Implementation\n",
    "\n",
    "- [astropy.modeling](https://docs.astropy.org/en/stable/modeling/index.html) to implement transforms\n",
    "- [astropy.coordinates](https://docs.astropy.org/en/stable/coordinates/index.html) for coordinate frames\n",
    "- [astropy.units](https://docs.astropy.org/en/stable/units/index.html)\n",
    "- implements the [Shared WCS API](https://docs.astropy.org/en/stable/wcs/wcsapi.html)\n",
    "- serialized to file using ASDF"
   ]
  },
  {
   "cell_type": "markdown",
   "id": "6d99a7ee-e52e-430c-8899-3f940b01755a",
   "metadata": {},
   "source": [
    "### Basic features\n",
    "\n",
    "JWST products are serialized to FITS, with the WCS written to a special non-standard FITS extension with `EXTNAME=ASDF`, known as ASDF-in-FITS.\n",
    "\n",
    "Roman will use ASDF as a native serialization format. While Roman files can be opened with asdf, we have developed data models for all products which provide additional convinience tools. What follows applies to both Roman and JWST, any differences are noted."
   ]
  },
  {
   "cell_type": "code",
   "execution_count": null,
   "id": "11a7d9d7-ee2f-4e8c-b706-5c6311ba53fe",
   "metadata": {},
   "outputs": [],
   "source": [
    "# Common imports\n",
    "from matplotlib import pyplot as plt\n",
    "%matplotlib inline\n",
    "\n",
    "import numpy as np\n",
    "\n",
    "from gwcs import wcs\n",
    "from gwcs import coordinate_frames as cf"
   ]
  },
  {
   "cell_type": "code",
   "execution_count": null,
   "id": "072ca2b3-39fd-4a5d-9c1f-28964df080d6",
   "metadata": {},
   "outputs": [],
   "source": [
    "# import Roman datamodels\n",
    "from roman_datamodels import datamodels as rdm"
   ]
  },
  {
   "cell_type": "code",
   "execution_count": null,
   "id": "f6dc9c61-858f-48d8-bf0e-9ef014b4a702",
   "metadata": {},
   "outputs": [],
   "source": [
    "# import JWST datamodels\n",
    "from stdatamodels.jwst import datamodels "
   ]
  },
  {
   "cell_type": "code",
   "execution_count": null,
   "id": "fb9fedf2-acf1-4277-a958-4fb45c9a4eda",
   "metadata": {},
   "outputs": [],
   "source": [
    "cal = rdm.open('../asdf/data/roman.asdf')"
   ]
  },
  {
   "cell_type": "code",
   "execution_count": null,
   "id": "b4b86ae5-3d0a-4f73-8a4f-798b9b4cfec1",
   "metadata": {},
   "outputs": [],
   "source": [
    "cal.info()"
   ]
  },
  {
   "cell_type": "code",
   "execution_count": null,
   "id": "b36e2a3a-b77a-48ee-9a37-a2b603561b73",
   "metadata": {},
   "outputs": [],
   "source": [
    "cal.search('wcs')"
   ]
  },
  {
   "cell_type": "markdown",
   "id": "a94b93c4-b562-410f-8ce3-2f862d9c587b",
   "metadata": {},
   "source": [
    "Searching for key `wcs` in the Roman calibration file gives several results.\n",
    "\n",
    "These are mostly common with the JWST cal files as well.\n",
    "\n",
    "- `meta.cal_step.assign_wcs`: a record that the assign_wcs step has been run on this file\n",
    "- `meta.wcs`: the GWCS object\n",
    "- `meta.wcs.fit_results`: a record of the tweakreg fitting parameters to GAIA (Roman specific)\n",
    "- `meta.wcsinfo`: pointing parameters\n",
    "\n"
   ]
  },
  {
   "cell_type": "code",
   "execution_count": null,
   "id": "04efddf9-edac-47d3-ab6e-fcec5122c310",
   "metadata": {},
   "outputs": [],
   "source": [
    "w = cal.meta.wcs\n",
    "\n",
    "print(w)"
   ]
  },
  {
   "cell_type": "markdown",
   "id": "aa1ad046-039d-42de-931d-291fd78d4a5a",
   "metadata": {},
   "source": [
    "### Shared vs Legacy API\n",
    "\n",
    "The Shared WCS API consists of methods commmon to other WCS libraries, currently astropy FITS WCS and GWCS. It is useful if writing general applications which should work with FITS and ASDF files. \n",
    "\n",
    "##### Shared API"
   ]
  },
  {
   "cell_type": "code",
   "execution_count": null,
   "id": "68584b96-8e89-4df0-b8cb-b2abc5fc9ae4",
   "metadata": {},
   "outputs": [],
   "source": [
    "ra, dec = w.pixel_to_world_values(100, 200)\n",
    "\n",
    "print(f\"World values (numerical): {ra, dec}\")\n",
    "\n",
    "x1, y1 = w.world_to_pixel_values(ra, dec)\n",
    "\n",
    "print(f\"Roundtripping values, world -> detector numerical values {x1, y1}\")"
   ]
  },
  {
   "cell_type": "code",
   "execution_count": null,
   "id": "71316cec-15ee-41b0-909e-9150c71ac578",
   "metadata": {},
   "outputs": [],
   "source": [
    "sky = w.pixel_to_world(100, 200)\n",
    "print(f\" World Sky object {sky}\")\n",
    "print(f\"Type of sky is {type(sky)}\")"
   ]
  },
  {
   "cell_type": "code",
   "execution_count": null,
   "id": "fc772f5e-5932-40df-b3a6-47be61ac4952",
   "metadata": {},
   "outputs": [],
   "source": [
    "x1, y1 = w.world_to_pixel(sky)\n",
    "\n",
    "print(f\"Roundtripping values, world -> detector SkyCoord object {x1, y1}\")"
   ]
  },
  {
   "cell_type": "markdown",
   "id": "4b45db5c-7abb-4b57-8dc9-03ad7e868a18",
   "metadata": {},
   "source": [
    "Using high level Python objects, like SkyCoord, allows all the functionality of astropy.coordinates to be used on the result of GWCS evaluation."
   ]
  },
  {
   "cell_type": "code",
   "execution_count": null,
   "id": "8be31d70-b18e-4d62-ad05-428083da2de7",
   "metadata": {},
   "outputs": [],
   "source": [
    "sky.galactic"
   ]
  },
  {
   "cell_type": "code",
   "execution_count": null,
   "id": "bd31ac6d-323e-48c0-b439-b36761c44b41",
   "metadata": {},
   "outputs": [],
   "source": [
    "sky.fk5"
   ]
  },
  {
   "cell_type": "markdown",
   "id": "25c7ec00-cb39-49de-8ab8-1f2dbc74fda6",
   "metadata": {},
   "source": [
    "##### Legacy methods\n",
    "\n",
    "These work only with numerical values and allow a little bit more flexibility.\n",
    "\n",
    "To evaluate the forward transform, the GWCS object can be called like a function. To evaluate the backward transform use `invert`."
   ]
  },
  {
   "cell_type": "code",
   "execution_count": null,
   "id": "b5986719-4538-4e17-a707-d89968a63df0",
   "metadata": {},
   "outputs": [],
   "source": [
    "ra, dec = w(100, 200)\n",
    "print(f\"World values: {ra, dec}\")\n",
    "\n",
    "x1, y1 = w.invert(ra, dec)\n",
    "\n",
    "print(f\"Roundtripping values, world -> detector{x1, y1}\")"
   ]
  },
  {
   "cell_type": "markdown",
   "id": "a8b4b877-2ad7-42a9-8cbe-80978a0ee488",
   "metadata": {},
   "source": [
    "#### Performance hint\n",
    "If the WCS object is called repeatedly and is not changing between calls, it is more performant to use \n",
    "\n",
    "`wcs.forward_transform` and `wcs.backward_transform`\n",
    "\n",
    "The reason is that the transforms are computed dynamically every time `wcs.__call__` and `wcs.invert` are called and there's some overhead in generating the transform. The performance improvement depends on the WCS and how many transforms it is using."
   ]
  },
  {
   "cell_type": "code",
   "execution_count": null,
   "id": "ade17aec-f134-49c3-9a09-a68318cc75ad",
   "metadata": {},
   "outputs": [],
   "source": [
    "w.backward_transform(*w.forward_transform(100, 200))"
   ]
  },
  {
   "cell_type": "markdown",
   "id": "d87a7677-561b-4171-b870-a0a315e8989c",
   "metadata": {},
   "source": [
    "##### The bounding box\n",
    "\n",
    "A GWCS object has an attribute `bounding_box` which is an instance of `astropy.modeling.ModelBoundingBox` or `astropy.modeling.CompoundBoundingBox`. It represents the valid range of inputs. Results for inputs outside the bounding_box are set to np.NaN.\n",
    "\n",
    "A GWCS object has a method `footprint` which returns a numerical value of the evaluation of the bounding_box. Inverse transformations take into account the footprint and th einput bounding_box to determine valid values. These can be disabled by passing `with_bounding_box=False` to the `wcs.__call__` or `wcs.invert`. \n",
    "\n",
    "The Shared API does not accept this keyword. To force the transforms to ignore the `bounding_box` when using the shared API, set the `wcs.bounding_box=None`.\n",
    "\n",
    "##### Evaluating a grid of valid inputs\n",
    "\n",
    "`gwcs.wcstools.grid_from_bounding_box` returns a grid of input values within the `bounding_box`, their number corresponding to the number of input axes."
   ]
  },
  {
   "cell_type": "markdown",
   "id": "13552b47-ea7c-478e-aa15-a6b660c6f86a",
   "metadata": {},
   "source": [
    "#### Exercise 1:\n",
    "\n",
    "Using the file above\n",
    "\n",
    "- Open the file and read the WCS\n",
    "- Display the bounding_box\n",
    "- Generate the grid of inputs\n",
    "  Extra bonus\n",
    "  - generate a grid using the edge of the pixels instead of the centers (hint: use the `center` parameter)\n",
    "  - generate a grid with sampling every 5 pixels (hint: use the `step` parameter)\n",
    "- Use the Shared and Legacy APIs to generate world coordinates\n",
    "- Evaluate the WCS on x=4088 and y=4088\n",
    "- Compute the footprint of the image on sky"
   ]
  },
  {
   "cell_type": "markdown",
   "id": "97991878-6ec0-4cf4-9c82-6187d839b062",
   "metadata": {},
   "source": [
    "### Transforms\n",
    "\n",
    "GWCS's transforms are based on astropy.modeling. The flexibility of GWCS comes mostly from the various ways the models can be combined:\n",
    "\n",
    "- using arithmetic operators\n",
    "- in series\n",
    "- in parallel\n",
    "- inputs can be fixed, reordered, dropped or added\n",
    "\n",
    "What follows is a brief introduction to astropy.modeling."
   ]
  },
  {
   "cell_type": "code",
   "execution_count": null,
   "id": "8f80f8c5-ee90-497b-8306-7ccc4cab4a55",
   "metadata": {},
   "outputs": [],
   "source": [
    "jcal = datamodels.open('../asdf/data/jwst.fits')"
   ]
  },
  {
   "cell_type": "code",
   "execution_count": null,
   "id": "ac121825-afe1-4d58-b359-9ddc49e8908c",
   "metadata": {},
   "outputs": [],
   "source": [
    "jw = jcal.meta.wcs\n",
    "print(jw)"
   ]
  },
  {
   "cell_type": "code",
   "execution_count": null,
   "id": "710fb9b2-3c04-4ef9-b9a4-316054e6fba2",
   "metadata": {},
   "outputs": [],
   "source": [
    "print(jw.forward_transform)"
   ]
  },
  {
   "cell_type": "markdown",
   "id": "5a52b139-4404-4a28-8ceb-a201ed12ba23",
   "metadata": {},
   "source": [
    "### Exercise 2:\n",
    "\n",
    "- Use the prescription above to generate a compound model with different parameters.\n",
    "- Using this new transform generate a GWCS object. The coordinate frames can be accessed by `wcs.input_frame` and `wcs.output_frame`."
   ]
  },
  {
   "cell_type": "markdown",
   "id": "16d48378-4b71-468b-80e4-07b4e947c6b6",
   "metadata": {},
   "source": [
    "### WCS methods\n",
    "\n",
    "We will use a Nirspec Level 2 (cal) file to demonstrate other GWCS features. This product is a `MultiSlitModel` from a MOS observation. "
   ]
  },
  {
   "cell_type": "code",
   "execution_count": null,
   "id": "0bc5aa1d-94ff-46d6-9688-ff4898130803",
   "metadata": {},
   "outputs": [],
   "source": [
    "jnrs = datamodels.open('../asdf/data/jw04291004001_13101_00001_nrs2_cal.fits')\n",
    "print(f\"The data product is of type {type(jnrs)}\")\n",
    "\n",
    "print(f\"The number of extracted slits from the MSA is {len(jnrs.slits)}\")"
   ]
  },
  {
   "cell_type": "code",
   "execution_count": null,
   "id": "ec06e1a2-c880-4845-9651-40d8e4ca0da0",
   "metadata": {},
   "outputs": [],
   "source": [
    "s50 = jnrs.slits[50]\n",
    "w0 = s50.meta.wcs"
   ]
  },
  {
   "cell_type": "code",
   "execution_count": null,
   "id": "0e0f3c1b-2d43-4ada-a899-3e480e97a73d",
   "metadata": {},
   "outputs": [],
   "source": [
    "plt.imshow(s50.data, origin='lower', vmin=.1, vmax=.3, aspect='auto')\n",
    "\n",
    "plt.gray()"
   ]
  },
  {
   "cell_type": "code",
   "execution_count": null,
   "id": "afe94165-ea4c-4ca0-b4d6-30d6effc4b81",
   "metadata": {},
   "outputs": [],
   "source": [
    "print(w0)"
   ]
  },
  {
   "cell_type": "markdown",
   "id": "17a5a4f3-4236-40b2-bbb6-10cdbb46b723",
   "metadata": {},
   "source": [
    "This WCS has 9 coordinate frames. We will demonstrate\n",
    "\n",
    "- retrieving a transform between two intermediate frames\n",
    "- modifying a transform\n",
    "- setting a transform\n",
    "- insert a frame and a transform"
   ]
  },
  {
   "cell_type": "code",
   "execution_count": null,
   "id": "983f86b3-b619-4f1b-a0d9-7f3c8322bafc",
   "metadata": {},
   "outputs": [],
   "source": [
    "# Choose coordinates around the middle of the bounding box and find the corresponding coordinates in the virtual slit\n",
    "print(f\"bounding_box is {w0.bounding_box}\")"
   ]
  },
  {
   "cell_type": "code",
   "execution_count": null,
   "id": "2404cf4b-5048-4acd-95a6-3e9df3a3cb37",
   "metadata": {},
   "outputs": [],
   "source": [
    "det2slit = w0.get_transform('detector', 'slit_frame')"
   ]
  },
  {
   "cell_type": "code",
   "execution_count": null,
   "id": "1c8b6bab-30ef-4601-b4de-8f93d3db2fa3",
   "metadata": {},
   "outputs": [],
   "source": [
    "x_slit, y_slit, lam = det2slit(1000, 10.2)\n",
    "\n",
    "print(f\"Slit coordinates: {x_slit, y_slit, lam}\")"
   ]
  },
  {
   "cell_type": "markdown",
   "id": "e785a075-9c23-44fc-95fe-7b770b76ddd8",
   "metadata": {},
   "source": [
    "The coordinate frame \"v2v3\" is a spherical system associated with the telescope. \n",
    "The transform from \"v2v3\" to \"v2v3vacorr\" correct for the velocity aberration. Let's remove the aberration correction and the frame associated with it."
   ]
  },
  {
   "cell_type": "code",
   "execution_count": null,
   "id": "5613ae41-d6b8-4205-84ca-1c2dfe42ef47",
   "metadata": {},
   "outputs": [],
   "source": [
    "# Let assign a name to the transform from slit_frame to msa_frame\n",
    "\n",
    "slit2msa = w0.get_transform('slit_frame', 'msa_frame')\n",
    "print(slit2msa.name)"
   ]
  },
  {
   "cell_type": "code",
   "execution_count": null,
   "id": "e95fb182-6e68-4bed-979f-8f01677380d8",
   "metadata": {},
   "outputs": [],
   "source": [
    "slit2msa.name = \"slit2msa\"\n",
    "w0.set_transform('slit_frame', 'msa_frame', slit2msa)\n",
    "print(w0)"
   ]
  },
  {
   "cell_type": "code",
   "execution_count": null,
   "id": "ad1a27fe-0b00-4bb7-ad2e-fa7e5fcbd2e5",
   "metadata": {},
   "outputs": [],
   "source": [
    "import copy\n",
    "\n",
    "w0copy = copy.deepcopy(w0)\n"
   ]
  },
  {
   "cell_type": "code",
   "execution_count": null,
   "id": "e99be38a-6092-4794-8f57-0f2daad48b8e",
   "metadata": {},
   "outputs": [],
   "source": [
    "from astropy.modeling.models import Shift, Identity\n",
    "\n",
    "# create a new frame associated with shifted RA, DEC coordinates. For convenience we will copy the output \"world\" frame.\n",
    "ra_dec_shift = copy.deepcopy(w0.output_frame)\n",
    "ra_dec_shift.name = 'ra_dec_shift'\n",
    "\n",
    "# Create a transform which shifts RA, DEC by small a few hundreth of an arcsec and keeps the wavelength the same\n",
    "m = Shift(1) & Shift(1) & Identity(1)\n",
    "m.name = \"offset_ra_dec\""
   ]
  },
  {
   "cell_type": "code",
   "execution_count": null,
   "id": "5f91d5c6-8cce-41ce-9dad-5ec04f31c1e6",
   "metadata": {},
   "outputs": [],
   "source": [
    "w0copy.insert_frame(ra_dec_shift, m, 'world')"
   ]
  },
  {
   "cell_type": "code",
   "execution_count": null,
   "id": "810d0ac8-446b-4d0a-8b5e-e90d4108093b",
   "metadata": {},
   "outputs": [],
   "source": [
    "print(w0)\n"
   ]
  },
  {
   "cell_type": "code",
   "execution_count": null,
   "id": "0a855225-3c85-4ff7-a07e-caa14664376f",
   "metadata": {},
   "outputs": [],
   "source": [
    "print(w0copy)"
   ]
  },
  {
   "cell_type": "code",
   "execution_count": null,
   "id": "e6a2845a-fbe3-472e-919c-defe0457f9bc",
   "metadata": {},
   "outputs": [],
   "source": [
    "print(w0copy.get_transform('ra_dec_shift', 'world'))"
   ]
  },
  {
   "cell_type": "code",
   "execution_count": null,
   "id": "5cde6872-dafb-4e57-a6a3-8f9ac4c8c17d",
   "metadata": {},
   "outputs": [],
   "source": [
    "print(f\"old RA, DEC: {w0(1000, 10.5)}\")\n",
    "print(f\"new RA, DEC: {w0copy(1000, 10.5)}\")"
   ]
  },
  {
   "cell_type": "code",
   "execution_count": null,
   "id": "d238224f-2e74-4d6a-9158-6ea13e835dcc",
   "metadata": {},
   "outputs": [],
   "source": []
  }
 ],
 "metadata": {
  "kernelspec": {
   "display_name": "Python 3 (ipykernel)",
   "language": "python",
   "name": "python3"
  },
  "language_info": {
   "codemirror_mode": {
    "name": "ipython",
    "version": 3
   },
   "file_extension": ".py",
   "mimetype": "text/x-python",
   "name": "python",
   "nbconvert_exporter": "python",
   "pygments_lexer": "ipython3",
   "version": "3.12.8"
  }
 },
 "nbformat": 4,
 "nbformat_minor": 5
}
